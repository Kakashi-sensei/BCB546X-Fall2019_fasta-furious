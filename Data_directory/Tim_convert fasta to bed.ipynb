{
 "cells": [
  {
   "cell_type": "markdown",
   "metadata": {},
   "source": [
    "# convert fasta to bed"
   ]
  },
  {
   "cell_type": "code",
   "execution_count": 2,
   "metadata": {},
   "outputs": [
    {
     "name": "stdout",
     "output_type": "stream",
     "text": [
      "Requirement already satisfied: pyfaidx in c:\\users\\46554\\anaconda3\\lib\\site-packages (0.5.6)\n",
      "Requirement already satisfied: six in c:\\users\\46554\\anaconda3\\lib\\site-packages (from pyfaidx) (1.12.0)\n",
      "Requirement already satisfied: setuptools>=0.7 in c:\\users\\46554\\anaconda3\\lib\\site-packages (from pyfaidx) (41.6.0.post20191030)\n",
      "Note: you may need to restart the kernel to use updated packages.\n"
     ]
    }
   ],
   "source": [
    "pip install pyfaidx"
   ]
  },
  {
   "cell_type": "code",
   "execution_count": 6,
   "metadata": {},
   "outputs": [],
   "source": [
    "from Bio import SeqIO\n",
    "\n",
    "with open('HE681097.fasta') as in_f, open('HE681097.bed','w') as out_f:\n",
    "    for record in SeqIO.parse(in_f, 'fasta'):\n",
    "        out_f.write('{}\\t0\\t{}\\n'.format(record.id, len(record)))"
   ]
  }
 ],
 "metadata": {
  "kernelspec": {
   "display_name": "Python 3",
   "language": "python",
   "name": "python3"
  },
  "language_info": {
   "codemirror_mode": {
    "name": "ipython",
    "version": 3
   },
   "file_extension": ".py",
   "mimetype": "text/x-python",
   "name": "python",
   "nbconvert_exporter": "python",
   "pygments_lexer": "ipython3",
   "version": "3.7.5"
  }
 },
 "nbformat": 4,
 "nbformat_minor": 2
}
