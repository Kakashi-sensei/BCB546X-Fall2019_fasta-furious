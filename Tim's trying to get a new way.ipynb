{
 "cells": [
  {
   "cell_type": "markdown",
   "metadata": {},
   "source": [
    "# download data"
   ]
  },
  {
   "cell_type": "code",
   "execution_count": 1,
   "metadata": {},
   "outputs": [
    {
     "name": "stdout",
     "output_type": "stream",
     "text": [
      "Requirement already satisfied: biopython in c:\\users\\46554\\anaconda3\\lib\\site-packages (1.74)\n",
      "Requirement already satisfied: numpy in c:\\users\\46554\\anaconda3\\lib\\site-packages (from biopython) (1.16.5)\n",
      "Note: you may need to restart the kernel to use updated packages.\n"
     ]
    }
   ],
   "source": [
    "pip install biopython #install biopython"
   ]
  },
  {
   "cell_type": "code",
   "execution_count": 2,
   "metadata": {},
   "outputs": [],
   "source": [
    "from Bio.Seq import Seq\n",
    "from Bio.Alphabet import IUPAC"
   ]
  },
  {
   "cell_type": "code",
   "execution_count": null,
   "metadata": {},
   "outputs": [],
   "source": [
    "import os\n",
    "from Bio import SeqIO\n",
    "from Bio import Entrez\n",
    "Entrez.email = \"mahsa.askaryhemmat@gmail.com\"  # Always tell NCBI who you are\n",
    "filename = \"EU490707.gbk\"\n",
    "if not os.path.isfile(filename):\n",
    "    # Downloading...\n",
    "    net_handle = Entrez.efetch(db=\"nucleotide\", id=\"EU490707\", rettype=\"fasta\", retmode=\"text\")\n",
    "    out_handle = open(filename, \"w\")\n",
    "    out_handle.write(net_handle.read())\n",
    "    out_handle.close()\n",
    "    net_handle.close()\n",
    "    print(\"Saved\")\n",
    "\n",
    "print(\"Parsing...\")\n",
    "record = SeqIO.read(filename, \"fasta\")\n",
    "print(record)"
   ]
  }
 ],
 "metadata": {
  "kernelspec": {
   "display_name": "Python 3",
   "language": "python",
   "name": "python3"
  },
  "language_info": {
   "codemirror_mode": {
    "name": "ipython",
    "version": 3
   },
   "file_extension": ".py",
   "mimetype": "text/x-python",
   "name": "python",
   "nbconvert_exporter": "python",
   "pygments_lexer": "ipython3",
   "version": "3.7.5"
  }
 },
 "nbformat": 4,
 "nbformat_minor": 2
}
