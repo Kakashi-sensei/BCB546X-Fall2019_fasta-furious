{
 "cells": [
  {
   "cell_type": "markdown",
   "metadata": {},
   "source": [
    "# download data"
   ]
  },
  {
   "cell_type": "code",
   "execution_count": 1,
   "metadata": {},
   "outputs": [
    {
     "name": "stdout",
     "output_type": "stream",
     "text": [
      "Requirement already satisfied: biopython in c:\\users\\46554\\anaconda3\\lib\\site-packages (1.74)\n",
      "Requirement already satisfied: numpy in c:\\users\\46554\\anaconda3\\lib\\site-packages (from biopython) (1.16.5)\n",
      "Note: you may need to restart the kernel to use updated packages.\n"
     ]
    }
   ],
   "source": [
    "pip install biopython #install biopython"
   ]
  },
  {
   "cell_type": "code",
   "execution_count": 2,
   "metadata": {},
   "outputs": [],
   "source": [
    "from Bio.Seq import Seq\n",
    "from Bio.Alphabet import IUPAC"
   ]
  },
  {
   "cell_type": "code",
   "execution_count": 46,
   "metadata": {},
   "outputs": [
    {
     "name": "stdout",
     "output_type": "stream",
     "text": [
      "Saved\n",
      "Parsing...\n",
      "ID: HE681097.1\n",
      "Name: HE681097.1\n",
      "Description: HE681097.1 Staphylococcus aureus subsp. aureus HO 5096 0412 complete genome\n",
      "Number of features: 0\n",
      "Seq('CGATTAAAGATAGAAATACACGATGCGAGCAATCAAATTTCATAACATCACCAT...TAT', SingleLetterAlphabet())\n",
      "Saved\n",
      "Parsing...\n",
      "ID: NC_002953.3\n",
      "Name: NC_002953.3\n",
      "Description: NC_002953.3 Staphylococcus aureus strain MSSA476, complete genome\n",
      "Number of features: 0\n",
      "Seq('CGATTAAAGATAGAAATACACGATGCGAGCAATCAAATTTCATAACATCACCAT...TAT', SingleLetterAlphabet())\n"
     ]
    }
   ],
   "source": [
    "# this is a stupid way. it can be done with a for loop\n",
    "import os\n",
    "from Bio import SeqIO\n",
    "from Bio import Entrez\n",
    "Entrez.email = \"mahsa.askaryhemmat@gmail.com\"  # Always tell NCBI who you are\n",
    "filename = \"TL_HE681097.fasta\"\n",
    "if not os.path.isfile(filename):\n",
    "    # Downloading...\n",
    "    net_handle = Entrez.efetch(db=\"nucleotide\", id=\"HE681097\", rettype=\"fasta\", retmode=\"text\")\n",
    "    out_handle = open(filename, \"w\")\n",
    "    out_handle.write(net_handle.read())\n",
    "    out_handle.close()\n",
    "    net_handle.close()\n",
    "    print(\"Saved\")\n",
    "print(\"Parsing...\")\n",
    "record = SeqIO.read(filename, \"fasta\")\n",
    "print(record)\n",
    "\n",
    "Entrez.email = \"mahsa.askaryhemmat@gmail.com\"  # Always tell NCBI who you are\n",
    "filename = \"TL_NC_002953.fasta\"\n",
    "if not os.path.isfile(filename):\n",
    "    # Downloading...\n",
    "    net_handle = Entrez.efetch(db=\"nucleotide\", id=\"NC_002953\", rettype=\"fasta\", retmode=\"text\")\n",
    "    out_handle = open(filename, \"w\")\n",
    "    out_handle.write(net_handle.read())\n",
    "    out_handle.close()\n",
    "    net_handle.close()\n",
    "    print(\"Saved\")\n",
    "print(\"Parsing...\")\n",
    "record = SeqIO.read(filename, \"fasta\")\n",
    "print(record)"
   ]
  },
  {
   "cell_type": "markdown",
   "metadata": {},
   "source": [
    "## Hi all, I may find a way for assembly ones"
   ]
  },
  {
   "cell_type": "markdown",
   "metadata": {},
   "source": [
    "### https://dmnfarrell.github.io/bioinformatics/assemblies-genbank-python"
   ]
  },
  {
   "cell_type": "code",
   "execution_count": 1,
   "metadata": {},
   "outputs": [],
   "source": [
    "def get_assembly_summary(id):\n",
    "    \"\"\"Get esummary for an entrez id\"\"\"\n",
    "    from Bio import Entrez\n",
    "    esummary_handle = Entrez.esummary(db=\"assembly\", id=id, report=\"full\")\n",
    "    esummary_record = Entrez.read(esummary_handle)\n",
    "    return esummary_record\n",
    "\n",
    "def get_assemblies(term, download=True, path='assemblies'):\n",
    "    \"\"\"Download genbank assemblies for a given search term.\n",
    "    Args:\n",
    "        term: search term, usually organism name\n",
    "        download: whether to download the results\n",
    "        path: folder to save to\n",
    "    \"\"\"\n",
    "\n",
    "    from Bio import Entrez\n",
    "    #provide your own mail here\n",
    "    Entrez.email = \"mahsa.askaryhemmat@gmail.com\"\n",
    "    handle = Entrez.esearch(db=\"assembly\", term=term, retmax='200')\n",
    "    record = Entrez.read(handle)\n",
    "    ids = record['IdList']\n",
    "    print (f'found {len(ids)} ids')\n",
    "    links = []\n",
    "    for id in ids:\n",
    "        #get summary\n",
    "        summary = get_assembly_summary(id)\n",
    "        #get ftp link\n",
    "        url = summary['DocumentSummarySet']['DocumentSummary'][0]['FtpPath_RefSeq']\n",
    "        if url == '':\n",
    "            continue\n",
    "        label = os.path.basename(url)\n",
    "        #get the fasta link - change this to get other formats\n",
    "        link = os.path.join(url,label+'_genomic.fna.gz')\n",
    "        print (link)\n",
    "        links.append(link)\n",
    "        if download == True:\n",
    "            #download link\n",
    "            urllib.request.urlretrieve(link, f'{label}.fna.gz')\n",
    "    return links"
   ]
  }
 ],
 "metadata": {
  "kernelspec": {
   "display_name": "Python 3",
   "language": "python",
   "name": "python3"
  },
  "language_info": {
   "codemirror_mode": {
    "name": "ipython",
    "version": 3
   },
   "file_extension": ".py",
   "mimetype": "text/x-python",
   "name": "python",
   "nbconvert_exporter": "python",
   "pygments_lexer": "ipython3",
   "version": "3.7.5"
  }
 },
 "nbformat": 4,
 "nbformat_minor": 2
}
