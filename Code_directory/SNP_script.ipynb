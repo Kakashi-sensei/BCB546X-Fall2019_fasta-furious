{
 "cells": [
  {
   "cell_type": "code",
   "execution_count": 1,
   "metadata": {},
   "outputs": [],
   "source": [
    "from Bio import AlignIO"
   ]
  },
  {
   "cell_type": "markdown",
   "metadata": {},
   "source": [
    "Align the flp gene of the 2 genomes and after generating an alignment file use it to detect SNPs using the below script:"
   ]
  },
  {
   "cell_type": "code",
   "execution_count": 7,
   "metadata": {},
   "outputs": [
    {
     "name": "stdout",
     "output_type": "stream",
     "text": [
      "235 C T 1\n",
      "242 A G 2\n",
      "243 T C 3\n",
      "268 A G 4\n",
      "283 T A 5\n",
      "319 A C 6\n",
      "322 T C 7\n",
      "345 A G 8\n",
      "354 C T 9\n",
      "361 T G 10\n",
      "373 G A 11\n",
      "379 A T 12\n",
      "380 G A 13\n",
      "381 T C 14\n"
     ]
    }
   ],
   "source": [
    "y=0\n",
    "alignment = AlignIO.read(\"combinedAlignment.fasta\", \"fasta\")\n",
    "for r in range(0,len(alignment[1].seq)):\n",
    "    if alignment[0,r] != alignment[1,r]:\n",
    "        if alignment[0,r] != \"-\" and alignment[1,r] != \"-\":\n",
    "            y=y+1\n",
    "            print (r, alignment[0,r], alignment[1,r], y)\n",
    "        else:\n",
    "            y=0"
   ]
  }
 ],
 "metadata": {
  "kernelspec": {
   "display_name": "Python 3",
   "language": "python",
   "name": "python3"
  },
  "language_info": {
   "codemirror_mode": {
    "name": "ipython",
    "version": 3
   },
   "file_extension": ".py",
   "mimetype": "text/x-python",
   "name": "python",
   "nbconvert_exporter": "python",
   "pygments_lexer": "ipython3",
   "version": "3.7.5"
  }
 },
 "nbformat": 4,
 "nbformat_minor": 2
}
